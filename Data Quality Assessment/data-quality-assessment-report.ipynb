{
 "cells": [
  {
   "cell_type": "markdown",
   "id": "14666dc9",
   "metadata": {},
   "source": [
    "## Report: Data Quality Assessment Report: Sprocket Central Pty Ltd"
   ]
  },
  {
   "cell_type": "markdown",
   "id": "19f3a9d8",
   "metadata": {},
   "source": [
    "### Introduction\n",
    "\n",
    "Sprocket Central Pty Ltd , a medium size bikes & cycling accessories organisation, has approached Tony Smith (Partner) in KPMG’s Lighthouse & Innovation Team. Sprocket Central Pty Ltd  is keen to learn more about KPMG’s expertise in its Analytics, Information & Modelling team. They need help with its customer and transactions data. The organisation has a large dataset relating to its customers, but their team is unsure how to effectively analyse it to help optimise its marketing strategy.\n",
    "\n",
    "The purpose of this assessment was to optimised the customer's datasets, so it can have better quality for analysis, and various insights can be uncovered."
   ]
  },
  {
   "cell_type": "markdown",
   "id": "3f6eaa97",
   "metadata": {},
   "source": [
    "### Gathering\n",
    "\n",
    "The datasets were gathered through the file provided by the company, [here](https://cdn-assets.theforage.com/vinternship_modules/kpmg_data_analytics/KPMG_VI_New_raw_data_update_final.xlsx).\n",
    "A quick visual assessment using Google Sheet revealed that the three datasets we would be working with were present in different tab, so I proceeded to download these three datasets as a CSV.\n",
    "\n",
    "I assessed the 3 datasets extracted from the provided sheet.\n",
    "1. Customer Demographic\n",
    "2. Customer Address\n",
    "3. Transactions Data in the past 3 months\n",
    "\n",
    "\n",
    "The wrangling efforts followed the iterative approach of the three steps in Data Wrangling, Gather -> Assess -> Clean. For the purpose of this exercise, the last step of Cleaning is omitted, rather recommendations to how to go about that is given."
   ]
  },
  {
   "cell_type": "markdown",
   "id": "e6cae228",
   "metadata": {},
   "source": [
    "### Assessing\n",
    "\n",
    "Both visual and programmatic assessment was done on the three datasets. This assessment helped identify a number of Data Quality and Data Tidiness issues, which were properly documented with regards to the dataset it was identified in. The four Data Quality dimensions (such as Completeness, Consistency, Accuracy, Validity, etc) helped in identifying quality issues, which was documented accordingly."
   ]
  },
  {
   "cell_type": "markdown",
   "id": "e4591a98",
   "metadata": {},
   "source": [
    "### Identified Issues\n",
    "\n",
    "After assessign the datasets, I identified various issues with the quality of the datasets. And for the purpose of documentation, I used a Quality and Tidiness Issues Framework. Below are the identified issues found in the datasets.\n",
    "\n",
    "#### Quality Issues\n",
    "`customer_demographic`\n",
    "- last_name: missing values\n",
    "- gender: Full gender sometimes (Male, Female), abbreviations other times (M, F), \n",
    "- DOB: missing values\n",
    "- DOB has a string datatype\n",
    "- job_title: missing values\n",
    "- job_industry_category: missing values\n",
    "- default: unrecognised data format\n",
    "- tenure: missing values\n",
    "\n",
    "`customer_addresses`\n",
    "- missing record (3999 instead of 4000)\n",
    "\n",
    "\n",
    "`transactions`\n",
    "- transaction_date is a string\n",
    "- online_order: missing values\n",
    "- brand: missign values\n",
    "- product_line: missing values\n",
    "- product_class: missing values\n",
    "- product_size: missing values\n",
    "- standard_cost: missing values\n",
    "- standard_cost: has a string datatype\n",
    "- product_first_sold_date: missing values\n",
    "\n",
    "\n",
    "#### Tidiness Issues\n",
    "`customer_demographic`\n",
    "- DOB - does not follow the lowercase naming format of other columns\n",
    "- Unrealistic DOB for a customer with (1843-12-21)\n",
    "\n",
    "`transactions`\n",
    "- transaction_date format should consistent (year-month-day)\n",
    "- online_order has a datatype string [with True and False values]\n",
    "- [order_status, brand, product_line, product_class, product_size] all have datatype string\n",
    "\n",
    "One table `customers` split into two `customer_demographic` and `customer_addresses`\n"
   ]
  },
  {
   "cell_type": "markdown",
   "id": "8dfa50e3",
   "metadata": {},
   "source": [
    "### Recommendations\n",
    "\n",
    "After thorough assessment of the provided datasets, I identified both quality and tidiness issues which have been properly documented. The next step is to give recommendations on how the datasets can be cleaned, so it is ready for both exploratory analysis and explanatory analysis.\n",
    "\n",
    "#### Quality Issues:\n",
    "\n",
    "`customer_demographic`\n",
    "- The empty values in the last_name can be replace with N/A (Not Applicable).\n",
    "- For consistency, the gender column needs to be reformatted to use a specific representation of gender (Male, Female, Others) or (M, F, O)\n",
    "- The datatype of the DOB column should be converted to datetime\n",
    "- When it is time for analysis, if the DOB column is essential, then entries without DOB should be dropped.\n",
    "- The entries with empty job_title and job_industry_category should be droppoed if it would be crucial to our analysis.\n",
    "- The default column should be removed, it is not clear enough as to what it represents or how it can be used.\n",
    "- The entries with empty tenure should be droppoed if it would be crucial to our analysis.\n",
    "\n",
    "`customer_addresses`\n",
    "- There are 4 customers without address information. We can drop these entries.\n",
    "\n",
    "\n",
    "`transactions`\n",
    "- The transaction_date column datatype should be converted to a datetime\n",
    "- The entries with missing online_order values should be dropped and datatype converted to boolean\n",
    "- The entries with missing brand should be dropped and datatype should be converted to categorical\n",
    "- The entries with missing product_line should be dropped and datatype should be converted to categorical\n",
    "- The entries with missing product_class should be dropped and datatype should be converted to categorical\n",
    "- The entries with missing product_size should be dropped and datatype should be converted to categorical\n",
    "- The entries with missing standard_cost should be dropped, data in column should be reformatted to just the numeric value (striping the currency sign)\n",
    "- The entries with missing product_first_sold_date should be dropped\n",
    "\n",
    "\n",
    "#### Note\n",
    "For column properties that have been identified as being crucial to our analysis and we do not want to drop entries with empty values for that column, a specified default can be set.\n"
   ]
  },
  {
   "cell_type": "code",
   "execution_count": null,
   "id": "b9dc0802",
   "metadata": {},
   "outputs": [],
   "source": []
  },
  {
   "cell_type": "code",
   "execution_count": null,
   "id": "8fce0b7a",
   "metadata": {},
   "outputs": [],
   "source": []
  }
 ],
 "metadata": {
  "kernelspec": {
   "display_name": "Python [conda env:io] *",
   "language": "python",
   "name": "conda-env-io-py"
  },
  "language_info": {
   "codemirror_mode": {
    "name": "ipython",
    "version": 3
   },
   "file_extension": ".py",
   "mimetype": "text/x-python",
   "name": "python",
   "nbconvert_exporter": "python",
   "pygments_lexer": "ipython3",
   "version": "3.9.15"
  }
 },
 "nbformat": 4,
 "nbformat_minor": 5
}
